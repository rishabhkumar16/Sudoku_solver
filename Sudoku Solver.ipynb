{
 "cells": [
  {
   "cell_type": "code",
   "execution_count": 10,
   "metadata": {},
   "outputs": [],
   "source": [
    "#Program for solving sudoku"
   ]
  },
  {
   "cell_type": "code",
   "execution_count": 11,
   "metadata": {},
   "outputs": [],
   "source": [
    "#Global variable set to 0\n",
    "backtracks = 0"
   ]
  },
  {
   "cell_type": "code",
   "execution_count": 12,
   "metadata": {},
   "outputs": [],
   "source": [
    "#This procedure finds the next empty cells to fill on the sudoku grid\n",
    "def findNextCellToFill(grid):\n",
    "    #look for an unfilled grid location\n",
    "    for x in range(0,9):\n",
    "        for y in range (0,9):\n",
    "            if grid[x][y]==0:\n",
    "                return x, y\n",
    "    return -1, -1"
   ]
  },
  {
   "cell_type": "code",
   "execution_count": 13,
   "metadata": {},
   "outputs": [],
   "source": [
    "#This procedure checks if setting the (i,j) square to e is valid\n",
    "def isValid(grid, i, j, e):\n",
    "    rowOk = all([e != grid[i][x] for x in range(9)])\n",
    "    if rowOk:\n",
    "        columnOk = all([e != grid[x][j] for x in range(9)])\n",
    "        if columnOk:\n",
    "            #finding the top left x,y co-ordinates of\n",
    "            #the section of the sub-grid containing  the i,j cell\n",
    "            secTopX, secTopY = 3*(i//3), 3*(j//3)\n",
    "            for x in range(secTopX, secTopX+3):\n",
    "                for y in range(secTopY, secTopY+3):\n",
    "                    if grid[x][y]==e:\n",
    "                        return False\n",
    "            return True\n",
    "    return False"
   ]
  },
  {
   "cell_type": "code",
   "execution_count": 14,
   "metadata": {},
   "outputs": [],
   "source": [
    "#This process fills the missing sqaures of the sudoku puzzle\n",
    "#obeying the sudoku rules through brute force guessing and checking\n",
    "def solveSudoku(grid, i= 0, j=0):\n",
    "    \n",
    "    global backtracks\n",
    "    \n",
    "    #find the next cell to fill\n",
    "    i, j = findNextCellToFill(grid)\n",
    "    if i == -1:\n",
    "        return True\n",
    "    \n",
    "    for e in range(1,10):\n",
    "        #try different values in i, j location\n",
    "        if isValid(grid, i, j, e):\n",
    "            grid[i][j] = e\n",
    "            if solveSudoku(grid, i, j):\n",
    "                return True\n",
    "            \n",
    "            #undo the current cell for back tracking\n",
    "            backtracks +=1\n",
    "            grid[i][j] = 0\n",
    "    return False"
   ]
  },
  {
   "cell_type": "code",
   "execution_count": 15,
   "metadata": {},
   "outputs": [],
   "source": [
    "def printSudoku(grid):\n",
    "    numrow = 0\n",
    "    for row in grid:\n",
    "        if numrow%3 == 0 and numrow != 0:\n",
    "            print(' ')\n",
    "        print (row[0:3], ' ', row[3:6], ' ', row[6:9])\n",
    "        numrow += 1\n",
    "    return"
   ]
  },
  {
   "cell_type": "code",
   "execution_count": 16,
   "metadata": {},
   "outputs": [
    {
     "name": "stdout",
     "output_type": "stream",
     "text": [
      "True\n",
      "[5, 1, 7]   [6, 9, 8]   [2, 3, 4]\n",
      "[2, 8, 9]   [1, 3, 4]   [7, 5, 6]\n",
      "[3, 4, 6]   [2, 7, 5]   [8, 9, 1]\n",
      " \n",
      "[6, 7, 2]   [8, 4, 9]   [3, 1, 5]\n",
      "[1, 3, 8]   [5, 2, 6]   [9, 4, 7]\n",
      "[9, 5, 4]   [7, 1, 3]   [6, 8, 2]\n",
      " \n",
      "[4, 9, 5]   [3, 6, 2]   [1, 7, 8]\n",
      "[7, 2, 3]   [4, 8, 1]   [5, 6, 9]\n",
      "[8, 6, 1]   [9, 5, 7]   [4, 2, 3]\n",
      "\n",
      "backtracks =  579\n"
     ]
    }
   ],
   "source": [
    "input = [[5, 1, 7, 6, 0, 0, 0, 3, 4],\n",
    "         [2, 8, 9, 0, 0, 4, 0, 0, 0],\n",
    "         [3, 4, 6, 2, 0, 5, 0, 9, 0],\n",
    "         [6, 0, 2, 0, 0, 0, 0, 1, 0],\n",
    "         [0, 3, 8, 0, 0, 6, 0, 4, 7],\n",
    "         [0, 0, 0, 0, 0, 0, 0, 0, 0],\n",
    "         [0, 9, 0, 0, 0, 0, 0, 7, 8],\n",
    "         [7, 0, 3, 4, 0, 0, 5, 6, 0], \n",
    "         [0, 0, 0, 0, 0, 0, 0, 0, 0]]\n",
    "\n",
    "print(solveSudoku(input))\n",
    "printSudoku(input)\n",
    "print('\\nbacktracks = ', backtracks)"
   ]
  },
  {
   "cell_type": "code",
   "execution_count": null,
   "metadata": {},
   "outputs": [],
   "source": []
  }
 ],
 "metadata": {
  "kernelspec": {
   "display_name": "Python 3",
   "language": "python",
   "name": "python3"
  },
  "language_info": {
   "codemirror_mode": {
    "name": "ipython",
    "version": 3
   },
   "file_extension": ".py",
   "mimetype": "text/x-python",
   "name": "python",
   "nbconvert_exporter": "python",
   "pygments_lexer": "ipython3",
   "version": "3.7.3"
  }
 },
 "nbformat": 4,
 "nbformat_minor": 2
}
